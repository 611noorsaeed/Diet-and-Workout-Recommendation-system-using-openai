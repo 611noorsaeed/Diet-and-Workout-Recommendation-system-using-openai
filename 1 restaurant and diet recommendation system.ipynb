{
 "cells": [
  {
   "cell_type": "code",
   "execution_count": 15,
   "id": "6181f863",
   "metadata": {},
   "outputs": [
    {
     "name": "stdout",
     "output_type": "stream",
     "text": [
      "Recommended Restaurants: ['1. The Veggie Kitchen (Pakistan)', '2. The Green Leaf (Pakistan)', '3. The Veggie Spot (Pakistan)', '4. Veggie Bistro (Pakistan)', '5. Green Corner (Pakistan)', '6. Veggie Delight (Pakistan)']\n",
      "Recommended Breakfasts: ['1. Whole Grain Toast with Peanut Butter and Banana', '2. Overnight Oats with Berries and Nuts', '3. Avocado Toast with Sprouts', '4. Quinoa Porridge with Fruits', '5. Tofu Scramble with Veggies', '6. Sweet Potato Hash with Chickpeas']\n",
      "Recommended Dinners: ['1. Lentil Curry with Brown Rice', '2. Veggie Burgers with Sweet Potato Fries', '3. Baked Falafel with Hummus', '4. Vegetable Stir Fry with Quinoa', '5. Vegetable Soup with Whole Wheat Croutons']\n",
      "Recommended Workouts: ['1. Walking', '2. Swimming', '3. Yoga', '4. Pilates', '5. Strength Training', '6. Cycling']\n"
     ]
    }
   ],
   "source": [
    "import os\n",
    "import re\n",
    "os.environ['OPENAI_API_KEY'] = 'you api is here' # apenai\n",
    "\n",
    "from langchain.prompts import PromptTemplate\n",
    "from langchain.llms import OpenAI\n",
    "from langchain.chains import LLMChain\n",
    "\n",
    "llm_resto = OpenAI(temperature=0.6)\n",
    "\n",
    "prompt_template_resto = PromptTemplate(\n",
    "    input_variables=['age', 'gender', 'weight', 'height', 'veg_or_nonveg', 'disease', 'region', 'allergics', 'foodtype'],\n",
    "    template=\"Diet Recommendation System:\\n\"\n",
    "             \"I want you to recommend 6 restaurants names, 6 breakfast names, 5 dinner names, and 6 workout names, \"\n",
    "             \"based on the following criteria:\\n\"\n",
    "             \"Person age: {age}\\n\"\n",
    "             \"Person gender: {gender}\\n\"\n",
    "             \"Person weight: {weight}\\n\"\n",
    "             \"Person height: {height}\\n\"\n",
    "             \"Person veg_or_nonveg: {veg_or_nonveg}\\n\"\n",
    "             \"Person generic disease: {disease}\\n\"\n",
    "             \"Person region: {region}\\n\"\n",
    "             \"Person allergics: {allergics}\\n\"\n",
    "             \"Person foodtype: {foodtype}.\"\n",
    ")\n",
    "\n",
    "chain_resto = LLMChain(llm=llm_resto, prompt=prompt_template_resto)\n",
    "\n",
    "# Define the input dictionary\n",
    "input_data = {\n",
    "    'age': 60,\n",
    "    'gender': 'male',\n",
    "    'weight': 120,\n",
    "    'height': 5,\n",
    "    'veg_or_nonveg': 'veg',\n",
    "    'disease': 'aneamia',\n",
    "    'region': 'Pakistan',\n",
    "    'allergics': 'Latex Allergy',\n",
    "    'foodtype': 'Fruits'\n",
    "}\n",
    "\n",
    "results = chain_resto.run(input_data)\n",
    "\n",
    "# Extracting the different recommendations using regular expressions\n",
    "restaurant_names = re.findall(r'Restaurants:(.*?)Breakfast:', results, re.DOTALL)\n",
    "breakfast_names = re.findall(r'Breakfast:(.*?)Dinner:', results, re.DOTALL)\n",
    "dinner_names = re.findall(r'Dinner:(.*?)Workouts:', results, re.DOTALL)\n",
    "workout_names = re.findall(r'Workouts:(.*?)$', results, re.DOTALL)\n",
    "\n",
    "# Cleaning up the extracted lists\n",
    "restaurant_names = [name.strip() for name in restaurant_names[0].strip().split('\\n') if name.strip()] if restaurant_names else []\n",
    "breakfast_names = [name.strip() for name in breakfast_names[0].strip().split('\\n') if name.strip()] if breakfast_names else []\n",
    "dinner_names = [name.strip() for name in dinner_names[0].strip().split('\\n') if name.strip()] if dinner_names else []\n",
    "workout_names = [name.strip() for name in workout_names[0].strip().split('\\n') if name.strip()] if workout_names else []\n",
    "\n",
    "# Printing the recommendations separately\n",
    "print(\"Recommended Restaurants:\", restaurant_names)\n",
    "print(\"Recommended Breakfasts:\", breakfast_names)\n",
    "print(\"Recommended Dinners:\", dinner_names)\n",
    "print(\"Recommended Workouts:\", workout_names)\n"
   ]
  },
  {
   "cell_type": "code",
   "execution_count": 16,
   "id": "62a63321",
   "metadata": {},
   "outputs": [
    {
     "data": {
      "text/plain": [
       "['1. Walking',\n",
       " '2. Swimming',\n",
       " '3. Yoga',\n",
       " '4. Pilates',\n",
       " '5. Strength Training',\n",
       " '6. Cycling']"
      ]
     },
     "execution_count": 16,
     "metadata": {},
     "output_type": "execute_result"
    }
   ],
   "source": [
    "workout_names"
   ]
  },
  {
   "cell_type": "code",
   "execution_count": null,
   "id": "774f41c6",
   "metadata": {},
   "outputs": [],
   "source": []
  }
 ],
 "metadata": {
  "kernelspec": {
   "display_name": "Python 3 (ipykernel)",
   "language": "python",
   "name": "python3"
  },
  "language_info": {
   "codemirror_mode": {
    "name": "ipython",
    "version": 3
   },
   "file_extension": ".py",
   "mimetype": "text/x-python",
   "name": "python",
   "nbconvert_exporter": "python",
   "pygments_lexer": "ipython3",
   "version": "3.9.12"
  }
 },
 "nbformat": 4,
 "nbformat_minor": 5
}
